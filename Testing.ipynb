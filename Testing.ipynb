{
 "cells": [
  {
   "cell_type": "code",
   "execution_count": 1,
   "metadata": {},
   "outputs": [],
   "source": [
    "import pandas as pd\n",
    "import matplotlib.pyplot as plt\n",
    "import numpy as np\n",
    "import seaborn as sns"
   ]
  },
  {
   "cell_type": "code",
   "execution_count": 2,
   "metadata": {},
   "outputs": [
    {
     "data": {
      "text/html": [
       "<div>\n",
       "<style scoped>\n",
       "    .dataframe tbody tr th:only-of-type {\n",
       "        vertical-align: middle;\n",
       "    }\n",
       "\n",
       "    .dataframe tbody tr th {\n",
       "        vertical-align: top;\n",
       "    }\n",
       "\n",
       "    .dataframe thead th {\n",
       "        text-align: right;\n",
       "    }\n",
       "</style>\n",
       "<table border=\"1\" class=\"dataframe\">\n",
       "  <thead>\n",
       "    <tr style=\"text-align: right;\">\n",
       "      <th></th>\n",
       "      <th>Authors</th>\n",
       "      <th>Author(s) ID</th>\n",
       "      <th>Title</th>\n",
       "      <th>Year</th>\n",
       "      <th>Source title</th>\n",
       "      <th>Volume</th>\n",
       "      <th>Issue</th>\n",
       "      <th>Art. No.</th>\n",
       "      <th>Page start</th>\n",
       "      <th>Page end</th>\n",
       "      <th>...</th>\n",
       "      <th>ISBN</th>\n",
       "      <th>CODEN</th>\n",
       "      <th>PubMed ID</th>\n",
       "      <th>Language of Original Document</th>\n",
       "      <th>Abbreviated Source Title</th>\n",
       "      <th>Document Type</th>\n",
       "      <th>Publication Stage</th>\n",
       "      <th>Access Type</th>\n",
       "      <th>Source</th>\n",
       "      <th>EID</th>\n",
       "    </tr>\n",
       "  </thead>\n",
       "  <tbody>\n",
       "    <tr>\n",
       "      <th>0</th>\n",
       "      <td>Beni E.H., Lagaisse B., Joosen W., Aly A., Bra...</td>\n",
       "      <td>57189258279;8933999000;22834655700;55841871100...</td>\n",
       "      <td>Datablinder: A distributed data protection mid...</td>\n",
       "      <td>2019</td>\n",
       "      <td>Middleware Industry 2019 - Proceedings of the ...</td>\n",
       "      <td>NaN</td>\n",
       "      <td>NaN</td>\n",
       "      <td>NaN</td>\n",
       "      <td>50</td>\n",
       "      <td>57.0</td>\n",
       "      <td>...</td>\n",
       "      <td>9781450370417</td>\n",
       "      <td>NaN</td>\n",
       "      <td>NaN</td>\n",
       "      <td>English</td>\n",
       "      <td>Middlew. Ind. - Proc. Int. Middlew. Conf. Ind....</td>\n",
       "      <td>Conference Paper</td>\n",
       "      <td>Final</td>\n",
       "      <td>Open Access</td>\n",
       "      <td>Scopus</td>\n",
       "      <td>2-s2.0-85078939286</td>\n",
       "    </tr>\n",
       "    <tr>\n",
       "      <th>1</th>\n",
       "      <td>Xiong H., Zhou Y.</td>\n",
       "      <td>57212174318;57212168803;</td>\n",
       "      <td>Construction and Application of Ocean Shipping...</td>\n",
       "      <td>2019</td>\n",
       "      <td>Journal of Coastal Research</td>\n",
       "      <td>97</td>\n",
       "      <td>sp1</td>\n",
       "      <td>NaN</td>\n",
       "      <td>29</td>\n",
       "      <td>34.0</td>\n",
       "      <td>...</td>\n",
       "      <td>NaN</td>\n",
       "      <td>JCRSE</td>\n",
       "      <td>NaN</td>\n",
       "      <td>English</td>\n",
       "      <td>J. Coast. Res.</td>\n",
       "      <td>Article</td>\n",
       "      <td>Final</td>\n",
       "      <td>NaN</td>\n",
       "      <td>Scopus</td>\n",
       "      <td>2-s2.0-85076117139</td>\n",
       "    </tr>\n",
       "    <tr>\n",
       "      <th>2</th>\n",
       "      <td>Feng L., Zhang H., Tsai W.-T., Sun S.</td>\n",
       "      <td>57194783804;56979549200;57050382000;57197771738;</td>\n",
       "      <td>System architecture for high-performance permi...</td>\n",
       "      <td>2019</td>\n",
       "      <td>Frontiers of Computer Science</td>\n",
       "      <td>13</td>\n",
       "      <td>6</td>\n",
       "      <td>NaN</td>\n",
       "      <td>1151</td>\n",
       "      <td>1165.0</td>\n",
       "      <td>...</td>\n",
       "      <td>NaN</td>\n",
       "      <td>NaN</td>\n",
       "      <td>NaN</td>\n",
       "      <td>English</td>\n",
       "      <td>Front. Comput. Sci.</td>\n",
       "      <td>Article</td>\n",
       "      <td>Final</td>\n",
       "      <td>NaN</td>\n",
       "      <td>Scopus</td>\n",
       "      <td>2-s2.0-85051801026</td>\n",
       "    </tr>\n",
       "    <tr>\n",
       "      <th>3</th>\n",
       "      <td>Rožkalne Z., Mukāns M., Vētra A.</td>\n",
       "      <td>57211844555;56074676500;6506045608;</td>\n",
       "      <td>Transition-age young adults with cerebral pals...</td>\n",
       "      <td>2019</td>\n",
       "      <td>Medicina (Lithuania)</td>\n",
       "      <td>55</td>\n",
       "      <td>11</td>\n",
       "      <td>737</td>\n",
       "      <td>NaN</td>\n",
       "      <td>NaN</td>\n",
       "      <td>...</td>\n",
       "      <td>NaN</td>\n",
       "      <td>NaN</td>\n",
       "      <td>31739609.0</td>\n",
       "      <td>English</td>\n",
       "      <td>Medicina</td>\n",
       "      <td>Article</td>\n",
       "      <td>Final</td>\n",
       "      <td>Open Access</td>\n",
       "      <td>Scopus</td>\n",
       "      <td>2-s2.0-85075115419</td>\n",
       "    </tr>\n",
       "    <tr>\n",
       "      <th>4</th>\n",
       "      <td>Alshubiri F., Jamil S.A., Elheddad M.</td>\n",
       "      <td>56539905200;56770916900;57195032630;</td>\n",
       "      <td>The impact of ICT on financial development: Em...</td>\n",
       "      <td>2019</td>\n",
       "      <td>International Journal of Engineering Business ...</td>\n",
       "      <td>11</td>\n",
       "      <td>NaN</td>\n",
       "      <td>NaN</td>\n",
       "      <td>NaN</td>\n",
       "      <td>NaN</td>\n",
       "      <td>...</td>\n",
       "      <td>NaN</td>\n",
       "      <td>NaN</td>\n",
       "      <td>NaN</td>\n",
       "      <td>English</td>\n",
       "      <td>Intern. J. Eng. Bus. Manage.</td>\n",
       "      <td>Article</td>\n",
       "      <td>Final</td>\n",
       "      <td>Open Access</td>\n",
       "      <td>Scopus</td>\n",
       "      <td>2-s2.0-85071721834</td>\n",
       "    </tr>\n",
       "  </tbody>\n",
       "</table>\n",
       "<p>5 rows × 46 columns</p>\n",
       "</div>"
      ],
      "text/plain": [
       "                                             Authors  \\\n",
       "0  Beni E.H., Lagaisse B., Joosen W., Aly A., Bra...   \n",
       "1                                  Xiong H., Zhou Y.   \n",
       "2              Feng L., Zhang H., Tsai W.-T., Sun S.   \n",
       "3                   Rožkalne Z., Mukāns M., Vētra A.   \n",
       "4              Alshubiri F., Jamil S.A., Elheddad M.   \n",
       "\n",
       "                                        Author(s) ID  \\\n",
       "0  57189258279;8933999000;22834655700;55841871100...   \n",
       "1                           57212174318;57212168803;   \n",
       "2   57194783804;56979549200;57050382000;57197771738;   \n",
       "3                57211844555;56074676500;6506045608;   \n",
       "4               56539905200;56770916900;57195032630;   \n",
       "\n",
       "                                               Title  Year  \\\n",
       "0  Datablinder: A distributed data protection mid...  2019   \n",
       "1  Construction and Application of Ocean Shipping...  2019   \n",
       "2  System architecture for high-performance permi...  2019   \n",
       "3  Transition-age young adults with cerebral pals...  2019   \n",
       "4  The impact of ICT on financial development: Em...  2019   \n",
       "\n",
       "                                        Source title Volume Issue Art. No.  \\\n",
       "0  Middleware Industry 2019 - Proceedings of the ...    NaN   NaN      NaN   \n",
       "1                        Journal of Coastal Research     97   sp1      NaN   \n",
       "2                      Frontiers of Computer Science     13     6      NaN   \n",
       "3                               Medicina (Lithuania)     55    11      737   \n",
       "4  International Journal of Engineering Business ...     11   NaN      NaN   \n",
       "\n",
       "  Page start  Page end  ...           ISBN  CODEN   PubMed ID  \\\n",
       "0         50      57.0  ...  9781450370417    NaN         NaN   \n",
       "1         29      34.0  ...            NaN  JCRSE         NaN   \n",
       "2       1151    1165.0  ...            NaN    NaN         NaN   \n",
       "3        NaN       NaN  ...            NaN    NaN  31739609.0   \n",
       "4        NaN       NaN  ...            NaN    NaN         NaN   \n",
       "\n",
       "  Language of Original Document  \\\n",
       "0                       English   \n",
       "1                       English   \n",
       "2                       English   \n",
       "3                       English   \n",
       "4                       English   \n",
       "\n",
       "                            Abbreviated Source Title     Document Type  \\\n",
       "0  Middlew. Ind. - Proc. Int. Middlew. Conf. Ind....  Conference Paper   \n",
       "1                                     J. Coast. Res.           Article   \n",
       "2                                Front. Comput. Sci.           Article   \n",
       "3                                           Medicina           Article   \n",
       "4                       Intern. J. Eng. Bus. Manage.           Article   \n",
       "\n",
       "  Publication Stage  Access Type  Source                 EID  \n",
       "0             Final  Open Access  Scopus  2-s2.0-85078939286  \n",
       "1             Final          NaN  Scopus  2-s2.0-85076117139  \n",
       "2             Final          NaN  Scopus  2-s2.0-85051801026  \n",
       "3             Final  Open Access  Scopus  2-s2.0-85075115419  \n",
       "4             Final  Open Access  Scopus  2-s2.0-85071721834  \n",
       "\n",
       "[5 rows x 46 columns]"
      ]
     },
     "execution_count": 2,
     "metadata": {},
     "output_type": "execute_result"
    }
   ],
   "source": [
    "df = pd.read_csv(\"e-finance dataset.csv\")\n",
    "df.head()"
   ]
  },
  {
   "cell_type": "code",
   "execution_count": 3,
   "metadata": {},
   "outputs": [
    {
     "data": {
      "text/plain": [
       "4"
      ]
     },
     "execution_count": 3,
     "metadata": {},
     "output_type": "execute_result"
    }
   ],
   "source": [
    "(df.Abstract == '[No abstract available]').sum()"
   ]
  },
  {
   "cell_type": "markdown",
   "metadata": {},
   "source": [
    "We can see from that above that we have some abstracts with \"No abstract available as their content\""
   ]
  },
  {
   "cell_type": "code",
   "execution_count": 4,
   "metadata": {},
   "outputs": [],
   "source": [
    "threshold = (60 / 100) * df.shape[0] #This is the threshold number of observations that can be null\n",
    "isnull_per_column = df.isnull().sum() \n",
    "useful_features = isnull_per_column[isnull_per_column < threshold].index #Removing the needed columns/features from all the columns\n",
    "df = df[useful_features] "
   ]
  },
  {
   "cell_type": "code",
   "execution_count": 5,
   "metadata": {},
   "outputs": [],
   "source": [
    "#We have some custom ranges that we cannot achieve with the pd.cut function\n",
    "year_range2001_2009 = np.arange(2001, 2010, 1) \n",
    "year_range2010_2019 = np.arange(2010, 2019, 1)"
   ]
  },
  {
   "cell_type": "code",
   "execution_count": 6,
   "metadata": {},
   "outputs": [],
   "source": [
    "#Creating a function that can return the boolean values of the years in the customised range\n",
    "def row_in_range(row, year_range):\n",
    "    if row in year_range:\n",
    "        return True\n",
    "    return False"
   ]
  },
  {
   "cell_type": "code",
   "execution_count": 7,
   "metadata": {},
   "outputs": [],
   "source": [
    "boolean_2001_2009 = df.Year.map(lambda x: row_in_range(x, year_range2001_2009))\n",
    "boolean_2010_2019 = df.Year.map(lambda x: row_in_range(x, year_range2010_2019))\n",
    "abstract_2001_2009 = df[boolean_2001_2009][\"Abstract\"].sum()\n",
    "abstract_2010_2019 = df[boolean_2010_2019][\"Abstract\"].sum()"
   ]
  },
  {
   "cell_type": "code",
   "execution_count": 8,
   "metadata": {},
   "outputs": [
    {
     "name": "stderr",
     "output_type": "stream",
     "text": [
      "C:\\apps\\anaconda3\\envs\\py3.0-TF2.0\\lib\\site-packages\\ipykernel_launcher.py:6: FutureWarning: The default value of regex will change from True to False in a future version.\n",
      "  \n"
     ]
    },
    {
     "data": {
      "text/html": [
       "<div>\n",
       "<style scoped>\n",
       "    .dataframe tbody tr th:only-of-type {\n",
       "        vertical-align: middle;\n",
       "    }\n",
       "\n",
       "    .dataframe tbody tr th {\n",
       "        vertical-align: top;\n",
       "    }\n",
       "\n",
       "    .dataframe thead th {\n",
       "        text-align: right;\n",
       "    }\n",
       "</style>\n",
       "<table border=\"1\" class=\"dataframe\">\n",
       "  <thead>\n",
       "    <tr style=\"text-align: right;\">\n",
       "      <th></th>\n",
       "      <th>year_groups</th>\n",
       "      <th>Abstract</th>\n",
       "    </tr>\n",
       "  </thead>\n",
       "  <tbody>\n",
       "    <tr>\n",
       "      <th>0</th>\n",
       "      <td>1981-2000</td>\n",
       "      <td>An overview is given on the provisions of the ...</td>\n",
       "    </tr>\n",
       "    <tr>\n",
       "      <th>1</th>\n",
       "      <td>2001-2005</td>\n",
       "      <td>We describe our experiences in mechanising the...</td>\n",
       "    </tr>\n",
       "    <tr>\n",
       "      <th>2</th>\n",
       "      <td>2006-2009</td>\n",
       "      <td>Selected websites of Polish e-finance segment ...</td>\n",
       "    </tr>\n",
       "    <tr>\n",
       "      <th>3</th>\n",
       "      <td>2010-2015</td>\n",
       "      <td>The financial system is currently undergoing a...</td>\n",
       "    </tr>\n",
       "    <tr>\n",
       "      <th>4</th>\n",
       "      <td>2016-2019</td>\n",
       "      <td>Business application owners want to outsource ...</td>\n",
       "    </tr>\n",
       "  </tbody>\n",
       "</table>\n",
       "</div>"
      ],
      "text/plain": [
       "  year_groups                                           Abstract\n",
       "0   1981-2000  An overview is given on the provisions of the ...\n",
       "1   2001-2005  We describe our experiences in mechanising the...\n",
       "2   2006-2009  Selected websites of Polish e-finance segment ...\n",
       "3   2010-2015  The financial system is currently undergoing a...\n",
       "4   2016-2019  Business application owners want to outsource ..."
      ]
     },
     "execution_count": 8,
     "metadata": {},
     "output_type": "execute_result"
    }
   ],
   "source": [
    "df[\"year_groups\"] = pd.cut(df[\"Year\"], \n",
    "                             bins = [1981, 2001, 2006, 2010, 2016, np.inf], \n",
    "                             labels = [\"1981-2000\", \"2001-2005\", \"2006-2009\", \"2010-2015\", \"2016-2019\"])\n",
    "\n",
    "\n",
    "df[\"Abstract\"] = df[\"Abstract\"].astype(str).str.replace(\"(\\[No abstract available\\])\", \"\") #str.replace was used with a reular expression\n",
    "df_aggregated = df[['year_groups', 'Abstract']].groupby(\"year_groups\").sum()\n",
    "df_aggregated = df_aggregated.reset_index()\n",
    "df_aggregated"
   ]
  },
  {
   "cell_type": "code",
   "execution_count": 9,
   "metadata": {},
   "outputs": [
    {
     "data": {
      "text/plain": [
       "2010-2015    94\n",
       "2006-2009    45\n",
       "2001-2005    44\n",
       "2016-2019    35\n",
       "1981-2000     8\n",
       "Name: year_groups, dtype: int64"
      ]
     },
     "execution_count": 9,
     "metadata": {},
     "output_type": "execute_result"
    }
   ],
   "source": [
    "df.year_groups.value_counts()"
   ]
  },
  {
   "cell_type": "markdown",
   "metadata": {},
   "source": [
    "The distribution of the data journals is very uneven"
   ]
  },
  {
   "cell_type": "code",
   "execution_count": 10,
   "metadata": {},
   "outputs": [],
   "source": [
    "df_custom_range_abstract = pd.DataFrame({\n",
    "    \"year_groups\": [\"2001-2009\", \"2010-2019\"],\n",
    "    \"Abstract\": [abstract_2001_2009, abstract_2010_2019]\n",
    "})"
   ]
  },
  {
   "cell_type": "code",
   "execution_count": 11,
   "metadata": {},
   "outputs": [
    {
     "data": {
      "text/html": [
       "<div>\n",
       "<style scoped>\n",
       "    .dataframe tbody tr th:only-of-type {\n",
       "        vertical-align: middle;\n",
       "    }\n",
       "\n",
       "    .dataframe tbody tr th {\n",
       "        vertical-align: top;\n",
       "    }\n",
       "\n",
       "    .dataframe thead th {\n",
       "        text-align: right;\n",
       "    }\n",
       "</style>\n",
       "<table border=\"1\" class=\"dataframe\">\n",
       "  <thead>\n",
       "    <tr style=\"text-align: right;\">\n",
       "      <th></th>\n",
       "      <th>year_groups</th>\n",
       "      <th>Abstract</th>\n",
       "    </tr>\n",
       "  </thead>\n",
       "  <tbody>\n",
       "    <tr>\n",
       "      <th>0</th>\n",
       "      <td>2001-2009</td>\n",
       "      <td>In Europe, fragmentation of execution venues h...</td>\n",
       "    </tr>\n",
       "    <tr>\n",
       "      <th>1</th>\n",
       "      <td>2010-2019</td>\n",
       "      <td>Building on concepts drawn from control theory...</td>\n",
       "    </tr>\n",
       "  </tbody>\n",
       "</table>\n",
       "</div>"
      ],
      "text/plain": [
       "  year_groups                                           Abstract\n",
       "0   2001-2009  In Europe, fragmentation of execution venues h...\n",
       "1   2010-2019  Building on concepts drawn from control theory..."
      ]
     },
     "execution_count": 11,
     "metadata": {},
     "output_type": "execute_result"
    }
   ],
   "source": [
    "df_custom_range_abstract"
   ]
  },
  {
   "cell_type": "code",
   "execution_count": 12,
   "metadata": {},
   "outputs": [
    {
     "data": {
      "text/html": [
       "<div>\n",
       "<style scoped>\n",
       "    .dataframe tbody tr th:only-of-type {\n",
       "        vertical-align: middle;\n",
       "    }\n",
       "\n",
       "    .dataframe tbody tr th {\n",
       "        vertical-align: top;\n",
       "    }\n",
       "\n",
       "    .dataframe thead th {\n",
       "        text-align: right;\n",
       "    }\n",
       "</style>\n",
       "<table border=\"1\" class=\"dataframe\">\n",
       "  <thead>\n",
       "    <tr style=\"text-align: right;\">\n",
       "      <th></th>\n",
       "      <th>year_groups</th>\n",
       "      <th>Abstract</th>\n",
       "    </tr>\n",
       "  </thead>\n",
       "  <tbody>\n",
       "    <tr>\n",
       "      <th>0</th>\n",
       "      <td>1981-2000</td>\n",
       "      <td>An overview is given on the provisions of the ...</td>\n",
       "    </tr>\n",
       "    <tr>\n",
       "      <th>1</th>\n",
       "      <td>2001-2005</td>\n",
       "      <td>We describe our experiences in mechanising the...</td>\n",
       "    </tr>\n",
       "    <tr>\n",
       "      <th>2</th>\n",
       "      <td>2006-2009</td>\n",
       "      <td>Selected websites of Polish e-finance segment ...</td>\n",
       "    </tr>\n",
       "    <tr>\n",
       "      <th>3</th>\n",
       "      <td>2010-2015</td>\n",
       "      <td>The financial system is currently undergoing a...</td>\n",
       "    </tr>\n",
       "    <tr>\n",
       "      <th>4</th>\n",
       "      <td>2016-2019</td>\n",
       "      <td>Business application owners want to outsource ...</td>\n",
       "    </tr>\n",
       "    <tr>\n",
       "      <th>5</th>\n",
       "      <td>2001-2009</td>\n",
       "      <td>In Europe, fragmentation of execution venues h...</td>\n",
       "    </tr>\n",
       "    <tr>\n",
       "      <th>6</th>\n",
       "      <td>2010-2019</td>\n",
       "      <td>Building on concepts drawn from control theory...</td>\n",
       "    </tr>\n",
       "  </tbody>\n",
       "</table>\n",
       "</div>"
      ],
      "text/plain": [
       "  year_groups                                           Abstract\n",
       "0   1981-2000  An overview is given on the provisions of the ...\n",
       "1   2001-2005  We describe our experiences in mechanising the...\n",
       "2   2006-2009  Selected websites of Polish e-finance segment ...\n",
       "3   2010-2015  The financial system is currently undergoing a...\n",
       "4   2016-2019  Business application owners want to outsource ...\n",
       "5   2001-2009  In Europe, fragmentation of execution venues h...\n",
       "6   2010-2019  Building on concepts drawn from control theory..."
      ]
     },
     "execution_count": 12,
     "metadata": {},
     "output_type": "execute_result"
    }
   ],
   "source": [
    "combined_data = pd.concat([df_aggregated, df_custom_range_abstract]).reset_index(drop=True)\n",
    "combined_data"
   ]
  },
  {
   "cell_type": "code",
   "execution_count": 13,
   "metadata": {},
   "outputs": [],
   "source": [
    "#Importing the necessary libraries\n",
    "import re\n",
    "import string\n",
    "import nltk \n",
    "from nltk.stem import WordNetLemmatizer\n",
    "from nltk.corpus import stopwords\n",
    "\n",
    "stopwords = set(stopwords.words(\"english\"))"
   ]
  },
  {
   "cell_type": "code",
   "execution_count": 14,
   "metadata": {},
   "outputs": [],
   "source": [
    "def clean_abstracts(row, tokenizer, stopwords):\n",
    "    \"\"\"Pre-process row and generate word tokens\n",
    "\n",
    "    Args:\n",
    "        row: Text to tokenize.\n",
    "\n",
    "    Returns:\n",
    "        Tokenized row.\n",
    "    \"\"\"\n",
    "    row = str(row).lower()  # Lowercase words\n",
    "    row = re.sub(r\"\\s+\", \" \", row)  # Remove multiple spaces in content\n",
    "    row = re.sub(f\"[{re.escape(string.punctuation)}]\", \"\", row)  # Remove punctuations\n",
    "\n",
    "    tokens = tokenizer(row)  # Get tokens from row\n",
    "    tokens = [t for t in tokens if not t in stopwords]  # Remove stopwords\n",
    "    tokens = [\"\" if t.isdigit() else t for t in tokens]  # Remove digits\n",
    "    tokens = [t for t in tokens if len(t) > 2]  # Remove short tokens\n",
    "    return tokens\n",
    "\n",
    "from collections import Counter\n",
    "\n",
    "#Creating a function to draw the word freguency chart for the words mostly used in some range of years\n",
    "def draw_word_frequency(dataframe):\n",
    "    \"\"\"Draw a freuency graph for the words that we have in each year range\n",
    "\n",
    "    Args:\n",
    "        year_range: The intended year range in string format\n",
    "        Abstracts: The text document we are drawning a word frequency graph for\n",
    "\n",
    "    Returns:\n",
    "        A bar plot\n",
    "    \"\"\"\n",
    "    def get_most(Abstract):\n",
    "        counter = Counter(Abstract)\n",
    "        most = counter.most_common()\n",
    "        return most\n",
    "\n",
    "    fig, axes = plt.subplots(7, 1, figsize=(10, 29))\n",
    "    fig.suptitle(\"Top frequently used words\")\n",
    "    for i in range(7):\n",
    "        most = get_most(dataframe[\"Abstract_words\"][i])\n",
    "        x, y= [], []\n",
    "        for word, count in most[:20]:\n",
    "            x.append(word)\n",
    "            y.append(count)\n",
    "        axes[i].set_title(\"year_range {}\".format(dataframe[\"year_groups\"][i]))        \n",
    "        sns.barplot(x=y, y=x, ax=axes[i])"
   ]
  },
  {
   "cell_type": "code",
   "execution_count": 15,
   "metadata": {},
   "outputs": [
    {
     "data": {
      "text/html": [
       "<div>\n",
       "<style scoped>\n",
       "    .dataframe tbody tr th:only-of-type {\n",
       "        vertical-align: middle;\n",
       "    }\n",
       "\n",
       "    .dataframe tbody tr th {\n",
       "        vertical-align: top;\n",
       "    }\n",
       "\n",
       "    .dataframe thead th {\n",
       "        text-align: right;\n",
       "    }\n",
       "</style>\n",
       "<table border=\"1\" class=\"dataframe\">\n",
       "  <thead>\n",
       "    <tr style=\"text-align: right;\">\n",
       "      <th></th>\n",
       "      <th>year_groups</th>\n",
       "      <th>Abstract</th>\n",
       "      <th>Abstract_words</th>\n",
       "    </tr>\n",
       "  </thead>\n",
       "  <tbody>\n",
       "    <tr>\n",
       "      <th>0</th>\n",
       "      <td>1981-2000</td>\n",
       "      <td>An overview is given on the provisions of the ...</td>\n",
       "      <td>[overview, given, provisions, european, instru...</td>\n",
       "    </tr>\n",
       "    <tr>\n",
       "      <th>1</th>\n",
       "      <td>2001-2005</td>\n",
       "      <td>We describe our experiences in mechanising the...</td>\n",
       "      <td>[describe, experiences, mechanising, specifica...</td>\n",
       "    </tr>\n",
       "    <tr>\n",
       "      <th>2</th>\n",
       "      <td>2006-2009</td>\n",
       "      <td>Selected websites of Polish e-finance segment ...</td>\n",
       "      <td>[selected, websites, polish, efinance, segment...</td>\n",
       "    </tr>\n",
       "    <tr>\n",
       "      <th>3</th>\n",
       "      <td>2010-2015</td>\n",
       "      <td>The financial system is currently undergoing a...</td>\n",
       "      <td>[financial, system, currently, undergoing, rev...</td>\n",
       "    </tr>\n",
       "    <tr>\n",
       "      <th>4</th>\n",
       "      <td>2016-2019</td>\n",
       "      <td>Business application owners want to outsource ...</td>\n",
       "      <td>[business, application, owners, want, outsourc...</td>\n",
       "    </tr>\n",
       "    <tr>\n",
       "      <th>5</th>\n",
       "      <td>2001-2009</td>\n",
       "      <td>In Europe, fragmentation of execution venues h...</td>\n",
       "      <td>[europe, fragmentation, execution, venues, tri...</td>\n",
       "    </tr>\n",
       "    <tr>\n",
       "      <th>6</th>\n",
       "      <td>2010-2019</td>\n",
       "      <td>Building on concepts drawn from control theory...</td>\n",
       "      <td>[building, concepts, drawn, control, theory, s...</td>\n",
       "    </tr>\n",
       "  </tbody>\n",
       "</table>\n",
       "</div>"
      ],
      "text/plain": [
       "  year_groups                                           Abstract  \\\n",
       "0   1981-2000  An overview is given on the provisions of the ...   \n",
       "1   2001-2005  We describe our experiences in mechanising the...   \n",
       "2   2006-2009  Selected websites of Polish e-finance segment ...   \n",
       "3   2010-2015  The financial system is currently undergoing a...   \n",
       "4   2016-2019  Business application owners want to outsource ...   \n",
       "5   2001-2009  In Europe, fragmentation of execution venues h...   \n",
       "6   2010-2019  Building on concepts drawn from control theory...   \n",
       "\n",
       "                                      Abstract_words  \n",
       "0  [overview, given, provisions, european, instru...  \n",
       "1  [describe, experiences, mechanising, specifica...  \n",
       "2  [selected, websites, polish, efinance, segment...  \n",
       "3  [financial, system, currently, undergoing, rev...  \n",
       "4  [business, application, owners, want, outsourc...  \n",
       "5  [europe, fragmentation, execution, venues, tri...  \n",
       "6  [building, concepts, drawn, control, theory, s...  "
      ]
     },
     "execution_count": 15,
     "metadata": {},
     "output_type": "execute_result"
    }
   ],
   "source": [
    "combined_data[\"Abstract_words\"] = combined_data[\"Abstract\"].map(lambda x: clean_abstracts(x, nltk.word_tokenize, stopwords))\n",
    "\n",
    "combined_data"
   ]
  },
  {
   "cell_type": "code",
   "execution_count": 16,
   "metadata": {},
   "outputs": [
    {
     "data": {
      "image/png": "[encoded data removed]",
      "text/plain": [
       "<Figure size 720x2088 with 7 Axes>"
      ]
     },
     "metadata": {
      "needs_background": "light"
     },
     "output_type": "display_data"
    }
   ],
   "source": [
    "draw_word_frequency(combined_data)"
   ]
  },
  {
   "cell_type": "code",
   "execution_count": 20,
   "metadata": {},
   "outputs": [
    {
     "name": "stdout",
     "output_type": "stream",
     "text": [
      "We have 48 missing values in the Author keywords column\n",
      "\n",
      "\n",
      "We have 127 missing values in the Index keywords column\n"
     ]
    }
   ],
   "source": [
    "print(\"We have {} missing values in the Author keywords column\".format(df[\"Author Keywords\"].isnull().sum()))\n",
    "print(\"\\n\")\n",
    "print(\"We have {} missing values in the Index keywords column\".format(df[\"Index Keywords\"].isnull().sum()))"
   ]
  },
  {
   "cell_type": "code",
   "execution_count": 22,
   "metadata": {},
   "outputs": [
    {
     "data": {
      "text/plain": [
       "228"
      ]
     },
     "execution_count": 22,
     "metadata": {},
     "output_type": "execute_result"
    }
   ],
   "source": [
    "df.shape[0]"
   ]
  },
  {
   "cell_type": "markdown",
   "metadata": {},
   "source": [
    "We can see that we have about 48 values are missing in the author keywords columns and 127 in the Index keywords column. \n",
    "The Index keywords contain more info than the author keywords column. We could fill in the missing values in the Index keywords column with the keywords we have in the index keywords."
   ]
  },
  {
   "cell_type": "code",
   "execution_count": 23,
   "metadata": {},
   "outputs": [],
   "source": [
    "df['Index Keywords'] = df.apply(\n",
    "    lambda row: row['Author Keywords'] if pd.isnull(row['Index Keywords']) else row['Index Keywords'],\n",
    "    axis=1\n",
    ")"
   ]
  },
  {
   "cell_type": "code",
   "execution_count": 24,
   "metadata": {},
   "outputs": [
    {
     "data": {
      "text/plain": [
       "0    Cryptography; Data privacy; Economic and socia...\n",
       "1    analytical hierarchy process; industrial enter...\n",
       "2    Blockchain; Boron carbide; Commerce; Internet ...\n",
       "3    Cerebral palsy; Developmental transition; Disa...\n",
       "4    E-finance; economic growth; financial developm...\n",
       "Name: Index Keywords, dtype: object"
      ]
     },
     "execution_count": 24,
     "metadata": {},
     "output_type": "execute_result"
    }
   ],
   "source": [
    "df[\"Index Keywords\"].head()"
   ]
  },
  {
   "cell_type": "code",
   "execution_count": 25,
   "metadata": {},
   "outputs": [
    {
     "data": {
      "text/plain": [
       "0    Cryptography; Data privacy; Economic and socia...\n",
       "1    analytical hierarchy process; industrial enter...\n",
       "2    Blockchain; Boron carbide; Commerce; Internet ...\n",
       "3    Cerebral palsy; Developmental transition; Disa...\n",
       "4    E-finance; economic growth; financial developm...\n",
       "Name: Index Keywords, dtype: object"
      ]
     },
     "execution_count": 25,
     "metadata": {},
     "output_type": "execute_result"
    }
   ],
   "source": [
    "df[\"Index Keywords\"] = df[\"Index Keywords\"].astype(str)\n",
    "df[\"Index Keywords\"].head()"
   ]
  },
  {
   "cell_type": "code",
   "execution_count": 26,
   "metadata": {},
   "outputs": [],
   "source": [
    "def clean_keywords(row, stopwords):\n",
    "    \"\"\"Pre-process row and generate word tokens\n",
    "\n",
    "    Args:\n",
    "        row: Text to tokenize.\n",
    "\n",
    "    Returns:\n",
    "        Tokenized row.\n",
    "    \"\"\"\n",
    "    row = str(row).lower()  # Lowercase words\n",
    "    tokens = row.split(\";\")\n",
    "    tokens = [t.lstrip() for t in tokens if not t in stopwords]  # Remove stopwords\n",
    "    tokens = [\"\" if t.isdigit() else t for t in tokens]  # Remove digits\n",
    "    tokens = [t for t in tokens if len(t) > 2]  # Remove short tokens\n",
    "    return tokens"
   ]
  },
  {
   "cell_type": "code",
   "execution_count": 27,
   "metadata": {},
   "outputs": [
    {
     "data": {
      "text/plain": [
       "0    [cryptography, data privacy, economic and soci...\n",
       "1    [analytical hierarchy process, industrial ente...\n",
       "2    [blockchain, boron carbide, commerce, internet...\n",
       "3    [cerebral palsy, developmental transition, dis...\n",
       "4    [e-finance, economic growth, financial develop...\n",
       "Name: Index Keywords, dtype: object"
      ]
     },
     "execution_count": 27,
     "metadata": {},
     "output_type": "execute_result"
    }
   ],
   "source": [
    "df[\"Index Keywords\"] = df[\"Index Keywords\"].map(lambda x: clean_keywords(x, stopwords))\n",
    "df[\"Index Keywords\"].head()"
   ]
  },
  {
   "cell_type": "code",
   "execution_count": 28,
   "metadata": {},
   "outputs": [],
   "source": [
    "keywords_corpus = df[\"Index Keywords\"].sum()"
   ]
  },
  {
   "cell_type": "code",
   "execution_count": 29,
   "metadata": {},
   "outputs": [
    {
     "data": {
      "text/plain": [
       "2028"
      ]
     },
     "execution_count": 29,
     "metadata": {},
     "output_type": "execute_result"
    }
   ],
   "source": [
    "len(keywords_corpus)"
   ]
  },
  {
   "cell_type": "code",
   "execution_count": 34,
   "metadata": {},
   "outputs": [],
   "source": [
    "def draw_word_frequency2(year_range, Keywords):\n",
    "    \"\"\"Draw a freuency graph for the words that we have in each year range\n",
    "\n",
    "    Args:\n",
    "        year_range: The intended year range in string format\n",
    "        Keywords: The text document we are drawning a word frequency graph for\n",
    "\n",
    "    Returns:\n",
    "        A bar plot\n",
    "    \"\"\"\n",
    "    counter = Counter(Keywords)\n",
    "    most = counter.most_common()\n",
    "\n",
    "    x, y= [], []\n",
    "    for word, count in most[:25]:\n",
    "        x.append(word)\n",
    "        y.append(count)\n",
    "    plt.title(year_range)        \n",
    "    sns.barplot(x=y, y=x)"
   ]
  },
  {
   "cell_type": "code",
   "execution_count": 35,
   "metadata": {},
   "outputs": [
    {
     "data": {
      "image/png": "[encoded data removed]",
      "text/plain": [
       "<Figure size 432x288 with 1 Axes>"
      ]
     },
     "metadata": {
      "needs_background": "light"
     },
     "output_type": "display_data"
    }
   ],
   "source": [
    "draw_word_frequency2(\"All year keywords\", keywords_corpus)"
   ]
  },
  {
   "cell_type": "markdown",
   "metadata": {},
   "source": [
    "We could Train a Word2vec model on the abstracts and find the most similar words to the top keywords we have from all the years has seen above"
   ]
  },
  {
   "cell_type": "markdown",
   "metadata": {},
   "source": []
  }
 ],
 "metadata": {
  "interpreter": {
   "hash": "c1302e52d65cc0419e8b79ec9309c58baca8fdba092fcf410ae7a7677a2fe3ec"
  },
  "kernelspec": {
   "display_name": "Python 3.7.7 ('py3.0-TF2.0')",
   "language": "python",
   "name": "python3"
  },
  "language_info": {
   "codemirror_mode": {
    "name": "ipython",
    "version": 3
   },
   "file_extension": ".py",
   "mimetype": "text/x-python",
   "name": "python",
   "nbconvert_exporter": "python",
   "pygments_lexer": "ipython3",
   "version": "3.7.7"
  },
  "orig_nbformat": 4
 },
 "nbformat": 4,
 "nbformat_minor": 2
}
